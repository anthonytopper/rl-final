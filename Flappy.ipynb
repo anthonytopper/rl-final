{
 "cells": [
  {
   "cell_type": "code",
   "execution_count": 1,
   "metadata": {
    "colab": {
     "base_uri": "https://localhost:8080/"
    },
    "id": "ERqRxM-bbLWE",
    "outputId": "86f2f124-2d06-4fb3-9e14-e4b9016166d2"
   },
   "outputs": [
    {
     "name": "stdout",
     "output_type": "stream",
     "text": [
      "Cloning into 'DS595CS525-RL-Projects'...\n",
      "remote: Enumerating objects: 76, done.\u001b[K\n",
      "remote: Counting objects: 100% (76/76), done.\u001b[K\n",
      "remote: Compressing objects: 100% (76/76), done.\u001b[K\n",
      "remote: Total 407 (delta 45), reused 0 (delta 0), pack-reused 331\u001b[K\n",
      "Receiving objects: 100% (407/407), 15.22 MiB | 13.64 MiB/s, done.\n",
      "Resolving deltas: 100% (196/196), done.\n",
      "Cloning into 'PyGame-Learning-Environment'...\n",
      "remote: Enumerating objects: 1118, done.\u001b[K\n",
      "remote: Total 1118 (delta 0), reused 0 (delta 0), pack-reused 1118\u001b[K\n",
      "Receiving objects: 100% (1118/1118), 8.06 MiB | 10.07 MiB/s, done.\n",
      "Resolving deltas: 100% (592/592), done.\n",
      "Obtaining file:///content/PyGame-Learning-Environment\n",
      "Requirement already satisfied: numpy in /usr/local/lib/python3.6/dist-packages (from ple==0.0.1) (1.18.5)\n",
      "Requirement already satisfied: Pillow in /usr/local/lib/python3.6/dist-packages (from ple==0.0.1) (7.0.0)\n",
      "Installing collected packages: ple\n",
      "  Running setup.py develop for ple\n",
      "Successfully installed ple\n",
      "Collecting pygame\n",
      "\u001b[?25l  Downloading https://files.pythonhosted.org/packages/87/4c/2ebe8ab1a695a446574bc48d96eb3503649893be8c769e7fafd65fd18833/pygame-2.0.0-cp36-cp36m-manylinux1_x86_64.whl (11.5MB)\n",
      "\u001b[K     |████████████████████████████████| 11.5MB 13.5MB/s \n",
      "\u001b[?25hInstalling collected packages: pygame\n",
      "Successfully installed pygame-2.0.0\n"
     ]
    }
   ],
   "source": [
    "#Package preparation\n",
    "!git clone https://github.com/aditthapron/RL_project.git\n",
    "import os\n",
    "os.environ[\"SDL_VIDEODRIVER\"] = \"dummy\"\n",
    "!git clone https://github.com/ntasfi/PyGame-Learning-Environment.git\n",
    "os.chdir('PyGame-Learning-Environment')\n",
    "!pip install -e .\n",
    "!pip install pygame\n",
    "os.chdir('/content')"
   ]
  },
  {
   "cell_type": "code",
   "execution_count": 2,
   "metadata": {
    "colab": {
     "base_uri": "https://localhost:8080/"
    },
    "id": "msjdAGrBcDsM",
    "outputId": "f967e1ba-b668-4a28-9e2a-d766643be18c"
   },
   "outputs": [
    {
     "name": "stdout",
     "output_type": "stream",
     "text": [
      "Sun Nov 15 10:38:59 2020       \n",
      "+-----------------------------------------------------------------------------+\n",
      "| NVIDIA-SMI 455.32.00    Driver Version: 418.67       CUDA Version: 10.1     |\n",
      "|-------------------------------+----------------------+----------------------+\n",
      "| GPU  Name        Persistence-M| Bus-Id        Disp.A | Volatile Uncorr. ECC |\n",
      "| Fan  Temp  Perf  Pwr:Usage/Cap|         Memory-Usage | GPU-Util  Compute M. |\n",
      "|                               |                      |               MIG M. |\n",
      "|===============================+======================+======================|\n",
      "|   0  Tesla P100-PCIE...  Off  | 00000000:00:04.0 Off |                    0 |\n",
      "| N/A   34C    P0    26W / 250W |      0MiB / 16280MiB |      0%      Default |\n",
      "|                               |                      |                 ERR! |\n",
      "+-------------------------------+----------------------+----------------------+\n",
      "                                                                               \n",
      "+-----------------------------------------------------------------------------+\n",
      "| Processes:                                                                  |\n",
      "|  GPU   GI   CI        PID   Type   Process name                  GPU Memory |\n",
      "|        ID   ID                                                   Usage      |\n",
      "|=============================================================================|\n",
      "|  No running processes found                                                 |\n",
      "+-----------------------------------------------------------------------------+\n"
     ]
    }
   ],
   "source": [
    "#check GPU\n",
    "import os\n",
    "os.environ[\"SDL_VIDEODRIVER\"] = \"dummy\"\n",
    "gpu_info = !nvidia-smi\n",
    "gpu_info = '\\n'.join(gpu_info)\n",
    "if gpu_info.find('failed') >= 0:\n",
    "  print('Select the Runtime > \"Change runtime type\" menu to enable a GPU accelerator, ')\n",
    "  print('and then re-execute this cell.')\n",
    "else:\n",
    "  print(gpu_info)"
   ]
  },
  {
   "cell_type": "code",
   "execution_count": null,
   "metadata": {
    "id": "EmvUZKWDbZ60"
   },
   "outputs": [],
   "source": [
    "# mount google drive for model checkpoint\n",
    "from google.colab import drive\n",
    "drive.mount('/content/drive')"
   ]
  },
  {
   "cell_type": "code",
   "execution_count": null,
   "metadata": {
    "colab": {
     "base_uri": "https://localhost:8080/"
    },
    "id": "-J9OPe6Tba7e",
    "outputId": "91161608-00c5-458c-fc56-dd3728b124f4"
   },
   "outputs": [
    {
     "name": "stdout",
     "output_type": "stream",
     "text": [
      "pygame 2.0.0 (SDL 2.0.12, python 3.6.9)\n",
      "Hello from the pygame community. https://www.pygame.org/contribute.html\n",
      "couldn't import doomish\n",
      "Couldn't import doom\n",
      "libpng warning: iCCP: known incorrect sRGB profile\n",
      "libpng warning: iCCP: known incorrect sRGB profile\n",
      "libpng warning: iCCP: known incorrect sRGB profile\n",
      "libpng warning: iCCP: known incorrect sRGB profile\n",
      "libpng warning: iCCP: known incorrect sRGB profile\n",
      "libpng warning: iCCP: known incorrect sRGB profile\n",
      "libpng warning: iCCP: known incorrect sRGB profile\n",
      "libpng warning: iCCP: known incorrect sRGB profile\n",
      "libpng warning: iCCP: known incorrect sRGB profile\n",
      "libpng warning: iCCP: known incorrect sRGB profile\n",
      "libpng warning: iCCP: known incorrect sRGB profile\n",
      "ALSA lib confmisc.c:767:(parse_card) cannot find card '0'\n",
      "ALSA lib conf.c:4528:(_snd_config_evaluate) function snd_func_card_driver returned error: No such file or directory\n",
      "ALSA lib confmisc.c:392:(snd_func_concat) error evaluating strings\n",
      "ALSA lib conf.c:4528:(_snd_config_evaluate) function snd_func_concat returned error: No such file or directory\n",
      "ALSA lib confmisc.c:1246:(snd_func_refer) error evaluating name\n",
      "ALSA lib conf.c:4528:(_snd_config_evaluate) function snd_func_refer returned error: No such file or directory\n",
      "ALSA lib conf.c:5007:(snd_config_expand) Evaluate error: No such file or directory\n",
      "ALSA lib pcm.c:2495:(snd_pcm_open_noupdate) Unknown PCM default\n",
      "Using device: cuda\n",
      "/content/DS595CS525-RL-Projects/Project3/dqn_model.py:53: UserWarning: nn.init.xavier_uniform is now deprecated in favor of nn.init.xavier_uniform_.\n",
      "  nn.init.xavier_uniform(self.conv1.weight)\n",
      "/content/DS595CS525-RL-Projects/Project3/dqn_model.py:54: UserWarning: nn.init.xavier_uniform is now deprecated in favor of nn.init.xavier_uniform_.\n",
      "  nn.init.xavier_uniform(self.conv2.weight)\n",
      "/content/DS595CS525-RL-Projects/Project3/dqn_model.py:55: UserWarning: nn.init.xavier_uniform is now deprecated in favor of nn.init.xavier_uniform_.\n",
      "  nn.init.xavier_uniform(self.conv3.weight)\n",
      "/content/DS595CS525-RL-Projects/Project3/dqn_model.py:56: UserWarning: nn.init.xavier_uniform is now deprecated in favor of nn.init.xavier_uniform_.\n",
      "  nn.init.xavier_uniform(self.FC_1.weight)\n",
      "/content/DS595CS525-RL-Projects/Project3/dqn_model.py:57: UserWarning: nn.init.xavier_uniform is now deprecated in favor of nn.init.xavier_uniform_.\n",
      "  nn.init.xavier_uniform(self.FC_2.weight)\n",
      "Episode:\t0,\t Avereged reward: 24.00\n",
      "\n",
      "/content/DS595CS525-RL-Projects/Project3/agent_dqn.py:227: UserWarning: torch.nn.utils.clip_grad_norm is now deprecated in favor of torch.nn.utils.clip_grad_norm_.\n",
      "  torch.nn.utils.clip_grad_norm(self.model.parameters(), 1.0)\n",
      "Episode:\t500,\t Avereged reward: 20.00\n",
      "\n",
      "Episode:\t1000,\t Avereged reward: 21.97\n",
      "\n",
      "Episode:\t1500,\t Avereged reward: 20.90\n",
      "\n",
      "Episode:\t2000,\t Avereged reward: 21.67\n",
      "\n",
      "Episode:\t2500,\t Avereged reward: 20.27\n",
      "\n",
      "Episode:\t3000,\t Avereged reward: 21.93\n",
      "\n",
      "Episode:\t3500,\t Avereged reward: 22.70\n",
      "\n",
      "Episode:\t4000,\t Avereged reward: 21.20\n",
      "\n",
      "Episode:\t4500,\t Avereged reward: 20.33\n",
      "\n",
      "Episode:\t5000,\t Avereged reward: 23.03\n",
      "\n",
      "Episode:\t5500,\t Avereged reward: 22.80\n",
      "\n",
      "Episode:\t6000,\t Avereged reward: 22.23\n",
      "\n",
      "Episode:\t6500,\t Avereged reward: 24.30\n",
      "\n",
      "Episode:\t7000,\t Avereged reward: 22.40\n",
      "\n",
      "Episode:\t7500,\t Avereged reward: 22.07\n",
      "\n",
      "Episode:\t8000,\t Avereged reward: 22.47\n",
      "\n",
      "Episode:\t8500,\t Avereged reward: 26.17\n",
      "\n",
      "Episode:\t9000,\t Avereged reward: 23.53\n",
      "\n",
      "Episode:\t9500,\t Avereged reward: 22.13\n",
      "\n",
      "Episode:\t10000,\t Avereged reward: 22.63\n",
      "\n",
      "Episode:\t10500,\t Avereged reward: 25.60\n",
      "\n",
      "Episode:\t11000,\t Avereged reward: 21.80\n",
      "\n",
      "Episode:\t11500,\t Avereged reward: 22.07\n",
      "\n",
      "Episode:\t12000,\t Avereged reward: 21.73\n",
      "\n",
      "Episode:\t12500,\t Avereged reward: 26.53\n",
      "\n",
      "Episode:\t13000,\t Avereged reward: 23.90\n",
      "\n",
      "Episode:\t13500,\t Avereged reward: 22.07\n",
      "\n",
      "Episode:\t14000,\t Avereged reward: 22.83\n",
      "\n",
      "Episode:\t14500,\t Avereged reward: 21.60\n",
      "\n",
      "Episode:\t15000,\t Avereged reward: 26.00\n",
      "\n",
      "Episode:\t15500,\t Avereged reward: 26.67\n",
      "\n",
      "Episode:\t16000,\t Avereged reward: 35.43\n",
      "\n",
      "Episode:\t16500,\t Avereged reward: 28.57\n",
      "\n",
      "Episode:\t17000,\t Avereged reward: 30.50\n",
      "\n",
      "Episode:\t17500,\t Avereged reward: 35.03\n",
      "\n",
      "Episode:\t18000,\t Avereged reward: 30.67\n",
      "\n",
      "Episode:\t18500,\t Avereged reward: 33.53\n",
      "\n",
      "Episode:\t19000,\t Avereged reward: 30.07\n",
      "\n",
      "Episode:\t19500,\t Avereged reward: 36.60\n",
      "\n",
      "Episode:\t20000,\t Avereged reward: 36.43\n",
      "\n",
      "Episode:\t20500,\t Avereged reward: 34.77\n",
      "\n",
      "Episode:\t21000,\t Avereged reward: 29.30\n",
      "\n",
      "Episode:\t21500,\t Avereged reward: 52.23\n",
      "\n",
      "Episode:\t22000,\t Avereged reward: 43.47\n",
      "\n",
      "Episode:\t22500,\t Avereged reward: 38.97\n",
      "\n",
      "Episode:\t23000,\t Avereged reward: 54.17\n",
      "\n",
      "Episode:\t23500,\t Avereged reward: 56.27\n",
      "\n",
      "Episode:\t24000,\t Avereged reward: 46.23\n",
      "\n",
      "Episode:\t24500,\t Avereged reward: 47.37\n",
      "\n",
      "Episode:\t25000,\t Avereged reward: 53.90\n",
      "\n",
      "Episode:\t25500,\t Avereged reward: 53.37\n",
      "\n",
      "Episode:\t26000,\t Avereged reward: 71.33\n",
      "\n",
      "Episode:\t26500,\t Avereged reward: 147.60\n",
      "\n",
      "Episode:\t27000,\t Avereged reward: 251.57\n",
      "\n"
     ]
    }
   ],
   "source": [
    "! python /content/RL_project/FlappyBird_DQN_prioritizedReplay_1/main.py --train_dqn"
   ]
  },
  {
   "cell_type": "code",
   "execution_count": null,
   "metadata": {
    "id": "RSfZo96aIxE3"
   },
   "outputs": [],
   "source": [
    "! cp best_1_3.pth \"/content/drive/My Drive/best_1_3_3.pth\"\n",
    "! cp best_1_3.txt \"/content/drive/My Drive/best_1_3_3.txt\""
   ]
  },
  {
   "cell_type": "code",
   "execution_count": null,
   "metadata": {
    "id": "WDxx6yQB4AOI"
   },
   "outputs": [],
   "source": []
  }
 ],
 "metadata": {
  "accelerator": "GPU",
  "colab": {
   "collapsed_sections": [],
   "machine_shape": "hm",
   "name": "Flappy.ipynb",
   "provenance": []
  },
  "kernelspec": {
   "display_name": "Python 3",
   "language": "python",
   "name": "python3"
  },
  "language_info": {
   "codemirror_mode": {
    "name": "ipython",
    "version": 3
   },
   "file_extension": ".py",
   "mimetype": "text/x-python",
   "name": "python",
   "nbconvert_exporter": "python",
   "pygments_lexer": "ipython3",
   "version": "3.6.10"
  }
 },
 "nbformat": 4,
 "nbformat_minor": 1
}
